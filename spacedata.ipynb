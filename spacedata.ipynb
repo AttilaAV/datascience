{
 "cells": [
  {
   "cell_type": "code",
   "execution_count": null,
   "id": "0303219c",
   "metadata": {},
   "outputs": [],
   "source": [
    "import pandas as pd\n",
    "import glob\n",
    "import os"
   ]
  },
  {
   "cell_type": "code",
   "execution_count": null,
   "id": "d1a40d30",
   "metadata": {},
   "outputs": [],
   "source": [
    "Merging the 5 csv files into one file"
   ]
  },
  {
   "cell_type": "code",
   "execution_count": null,
   "id": "2d272c00",
   "metadata": {},
   "outputs": [],
   "source": [
    "df = pd.read_csv('./Test files/spacedata1.csv')\n",
    "\n",
    "\n",
    "files = [file for file in os.listdir('./Test files')]\n",
    "\n",
    "#creating an empty dataframe\n",
    "all_space_data = pd.DataFrame()\n",
    "\n",
    "for file in files:\n",
    "    df = pd.read_csv('./Test files/' + file, header=None, error_bad_lines=False)\n",
    "    all_space_data = pd.concat([all_space_data, df])\n",
    "    \n",
    "all_space_data.columns = [\"timestamp\", \"axis\"]\n",
    "    \n",
    "all_space_data.to_csv('all_data.csv')\n",
    "all_space_data.head()"
   ]
  },
  {
   "cell_type": "markdown",
   "id": "e221a511",
   "metadata": {},
   "source": [
    "Cleaning up the data"
   ]
  },
  {
   "cell_type": "code",
   "execution_count": null,
   "id": "d24bebcd",
   "metadata": {
    "scrolled": true
   },
   "outputs": [],
   "source": [
    "#Just removing NaN data\n",
    "nan_df = all_space_data[all_space_data.isna().any(axis=1)]\n",
    "nan_df.head()\n",
    "\n",
    "all_space_data = all_space_data.dropna(how='any')\n",
    "all_space_data.head()"
   ]
  },
  {
   "cell_type": "code",
   "execution_count": null,
   "id": "981bb0eb",
   "metadata": {},
   "outputs": [],
   "source": [
    "#Getting data by Hours\n",
    "all_space_data['Hours'] = all_space_data['timestamp'].apply(lambda x: str(x).split(':')[0].split(' ')[1])\n",
    "all_space_data.tail()"
   ]
  },
  {
   "cell_type": "code",
   "execution_count": null,
   "id": "4391ab65",
   "metadata": {},
   "outputs": [],
   "source": [
    "results = all_space_data.groupby('Hours').sum().reset_index()\n",
    "results"
   ]
  },
  {
   "cell_type": "code",
   "execution_count": null,
   "id": "fc11877f",
   "metadata": {},
   "outputs": [],
   "source": [
    "import matplotlib.pyplot as plt\n",
    "\n",
    "hours = results['Hours']\n",
    "plt.bar(hours, results['axis'])\n",
    "plt.xticks(hours)\n",
    "plt.ylabel(\"Axis sum\")\n",
    "plt.xlabel(\"Hours\")\n",
    "plt.show()"
   ]
  },
  {
   "cell_type": "code",
   "execution_count": null,
   "id": "9c18f7ae",
   "metadata": {},
   "outputs": [],
   "source": [
    "all_space_data.sort_values(by='axis')"
   ]
  },
  {
   "cell_type": "code",
   "execution_count": null,
   "id": "8415183a",
   "metadata": {},
   "outputs": [],
   "source": [
    "import numpy as np\n",
    "from scipy.signal import find_peaks\n",
    "import plotly.graph_objects as go"
   ]
  },
  {
   "cell_type": "markdown",
   "id": "422fb55c",
   "metadata": {},
   "source": [
    "Plotting data to see the peak datas visually"
   ]
  },
  {
   "cell_type": "code",
   "execution_count": null,
   "id": "b758372b",
   "metadata": {},
   "outputs": [],
   "source": [
    "fig = go.Figure(data=go.Scatter(\n",
    "    y = all_space_data['axis'],\n",
    "    mode = 'lines'\n",
    "))\n",
    "\n",
    "fig.show()"
   ]
  },
  {
   "cell_type": "markdown",
   "id": "79611bb8",
   "metadata": {},
   "source": [
    "Finding high peak values over 200 difference, creating a list with the timestamps"
   ]
  },
  {
   "cell_type": "code",
   "execution_count": null,
   "id": "cd3da0a7",
   "metadata": {},
   "outputs": [],
   "source": [
    "all_space_data['high_peak'] = (all_space_data.axis.diff() >= 200)\n",
    "all_space_data.head()"
   ]
  },
  {
   "cell_type": "code",
   "execution_count": null,
   "id": "5711e654",
   "metadata": {},
   "outputs": [],
   "source": [
    "plotList = all_space_data.loc[all_space_data['high_peak'] == True, 'timestamp'].values"
   ]
  },
  {
   "cell_type": "code",
   "execution_count": null,
   "id": "ad19a7b5",
   "metadata": {},
   "outputs": [],
   "source": [
    "plotList"
   ]
  }
 ],
 "metadata": {
  "kernelspec": {
   "display_name": "Python 3 (ipykernel)",
   "language": "python",
   "name": "python3"
  },
  "language_info": {
   "codemirror_mode": {
    "name": "ipython",
    "version": 3
   },
   "file_extension": ".py",
   "mimetype": "text/x-python",
   "name": "python",
   "nbconvert_exporter": "python",
   "pygments_lexer": "ipython3",
   "version": "3.10.2"
  }
 },
 "nbformat": 4,
 "nbformat_minor": 5
}
